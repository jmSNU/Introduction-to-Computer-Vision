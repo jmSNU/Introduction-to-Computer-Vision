{
 "cells": [
  {
   "cell_type": "markdown",
   "metadata": {},
   "source": [
    "Problem 1-(b)\n",
    "==========="
   ]
  },
  {
   "cell_type": "code",
   "execution_count": 64,
   "metadata": {},
   "outputs": [
    {
     "name": "stdout",
     "output_type": "stream",
     "text": [
      "[[ 3.09963996e-03  1.46204548e-04 -4.48497465e-04 -9.78930678e-01]\n",
      " [ 3.07018252e-04  6.37193664e-04 -2.77356178e-03 -2.04144405e-01]\n",
      " [ 1.67933533e-06  2.74767684e-06 -6.83964827e-07 -1.32882928e-03]]\n"
     ]
    }
   ],
   "source": [
    "x = [[880, 214],\n",
    "[43, 203],\n",
    "[270, 197],\n",
    "[886, 347],\n",
    "[745, 302],\n",
    "[943, 128],\n",
    "[476, 590],\n",
    "[419, 214],\n",
    "[317, 335],\n",
    "[783, 521],\n",
    "[235, 427],\n",
    "[665, 429],\n",
    "[655, 362],\n",
    "[427, 333],\n",
    "[412, 415],\n",
    "[746, 351],\n",
    "[434, 415],\n",
    "[525, 234],\n",
    "[716,308],\n",
    "[602, 187]]\n",
    "\n",
    "X = [[312.747, 309.140, 30.086],\n",
    "[305.796, 311.649, 30.356],\n",
    "[307.694, 312.358, 30.418],\n",
    "[310.149, 307.186, 29.298],\n",
    "[311.937, 310.105, 29.216],\n",
    "[311.202, 307.572, 30.682],\n",
    "[307.106, 306.876, 28.660],\n",
    "[309.317, 312.490, 30.230],\n",
    "[307.435, 310.151, 29.318],\n",
    "[308.253, 306.300, 28.881],\n",
    "[306.650, 309.301, 28.905],\n",
    "[308.069, 306.831, 29.189],\n",
    "[309.671, 308.834, 29.029],\n",
    "[308.255, 309.955, 29.267],\n",
    "[307.546, 308.613, 28.963],\n",
    "[311.036, 309.206, 28.913],\n",
    "[307.518, 308.175, 29.069],\n",
    "[309.950, 311.262, 29.990],\n",
    "[312.160, 310.772, 29.080],\n",
    "[311.988, 312.709, 30.514]]\n",
    "\n",
    "\n",
    "A = []\n",
    "for i in range(len(X)):\n",
    "    xx = X[i]\n",
    "    u,v = x[i]\n",
    "    A.append(\n",
    "        [xx[0], xx[1], xx[2],1,0,0,0,0,-u*xx[0], -u*xx[1], -u*xx[2], -u]\n",
    "    )\n",
    "    A.append(\n",
    "        [0,0,0,0,xx[0], xx[1], xx[2],1,-v*xx[0], -v*xx[1], -v*xx[2], -v ]\n",
    "    )\n",
    "import numpy as np\n",
    "A = np.array(A)\n",
    "[U,S,V] = np.linalg.svd(A)\n",
    "p = V[-1,:]\n",
    "P_1 = p.reshape((3,4))\n",
    "print(P_1)"
   ]
  },
  {
   "cell_type": "markdown",
   "metadata": {},
   "source": [
    "Problem 1-(c)\n",
    "========="
   ]
  },
  {
   "cell_type": "code",
   "execution_count": 65,
   "metadata": {},
   "outputs": [
    {
     "name": "stdout",
     "output_type": "stream",
     "text": [
      "[[-2.33259098e+00 -1.09993113e-01  3.37413916e-01  7.36673920e+02]\n",
      " [-2.31050254e-01 -4.79506029e-01  2.08717636e+00  1.53627756e+02]\n",
      " [-1.26379606e-03 -2.06770917e-03  5.14635233e-04  1.00000000e+00]]\n"
     ]
    }
   ],
   "source": [
    "def pseudo_inverse(A):\n",
    "    return np.linalg.pinv(A)\n",
    "\n",
    "A = []\n",
    "b = []\n",
    "for i in range(len(X)):\n",
    "    xx = X[i]\n",
    "    u,v = x[i]\n",
    "    A.append(\n",
    "        [xx[0], xx[1], xx[2],1,0,0,0,0,-u*xx[0], -u*xx[1], -u*xx[2]]\n",
    "    )\n",
    "    A.append(\n",
    "        [0,0,0,0,xx[0], xx[1], xx[2],1,-v*xx[0], -v*xx[1], -v*xx[2]]\n",
    "    )\n",
    "    b.append(u)\n",
    "    b.append(v)\n",
    "\n",
    "A = np.array(A)\n",
    "b = np.array(b)\n",
    "p = np.matmul(pseudo_inverse(A),b)\n",
    "p = np.append(p,1)\n",
    "P_2 = p.reshape((3,4))\n",
    "print(P_2)"
   ]
  },
  {
   "cell_type": "code",
   "execution_count": 69,
   "metadata": {},
   "outputs": [
    {
     "name": "stdout",
     "output_type": "stream",
     "text": [
      "[[-2.33260962e+00 -1.10025080e-01  3.37513233e-01  7.36686567e+02]\n",
      " [-2.31044166e-01 -4.79515070e-01  2.08722206e+00  1.53627263e+02]\n",
      " [-1.26377057e-03 -2.06774255e-03  5.14712341e-04  1.00000000e+00]]\n"
     ]
    }
   ],
   "source": [
    "print(P_2[-1,-1]/P_1[-1,-1]*P_1)"
   ]
  }
 ],
 "metadata": {
  "kernelspec": {
   "display_name": "py311",
   "language": "python",
   "name": "python3"
  },
  "language_info": {
   "codemirror_mode": {
    "name": "ipython",
    "version": 3
   },
   "file_extension": ".py",
   "mimetype": "text/x-python",
   "name": "python",
   "nbconvert_exporter": "python",
   "pygments_lexer": "ipython3",
   "version": "3.11.7"
  }
 },
 "nbformat": 4,
 "nbformat_minor": 2
}
