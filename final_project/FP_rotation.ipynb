{
  "cells": [
    {
      "cell_type": "markdown",
      "metadata": {
        "id": "IWMWW8Ab_345"
      },
      "source": [
        "# (Optional) Colab Setup\n",
        "If you aren't using Colab, you can delete the following code cell. This is just to help students with mounting to Google Drive to access the other .py files and downloading the data, which is a little trickier on Colab than on your local machine using Jupyter."
      ]
    },
    {
      "cell_type": "code",
      "execution_count": 1,
      "metadata": {
        "colab": {
          "base_uri": "https://localhost:8080/"
        },
        "id": "vH4wc4iD_6w_",
        "outputId": "e3ca4577-1909-4cfc-9c8c-0e5c12ebc2bd"
      },
      "outputs": [
        {
          "output_type": "stream",
          "name": "stdout",
          "text": [
            "Mounted at /content/drive\n"
          ]
        }
      ],
      "source": [
        "# you will be prompted with a window asking to grant permissions\n",
        "from google.colab import drive\n",
        "drive.mount(\"/content/drive\")"
      ]
    },
    {
      "cell_type": "code",
      "execution_count": 1,
      "metadata": {
        "colab": {
          "base_uri": "https://localhost:8080/"
        },
        "id": "XpNsPHZc_879",
        "outputId": "69697da5-3d05-41d4-a62d-21a339d80867"
      },
      "outputs": [
        {
          "output_type": "stream",
          "name": "stdout",
          "text": [
            "/content/drive/My Drive/ICV_final\n"
          ]
        }
      ],
      "source": [
        "# fill in the path in your Google Drive in the string below. Note: do not escape slashes or spaces\n",
        "import os\n",
        "datadir = \"/content/assignment3\"\n",
        "if not os.path.exists(datadir):\n",
        "  !ln -s \"/content/drive/My Drive/ICV_final\" $datadir # TODO: Fill your A3 path\n",
        "os.chdir(datadir)\n",
        "!pwd"
      ]
    },
    {
      "cell_type": "markdown",
      "metadata": {
        "id": "Um5DJvBwb6xT"
      },
      "source": [
        "#Data Setup\n",
        "\n",
        "The first thing to do is implement a dataset class to load rotated CIFAR10 images with matching labels. Since there is already a CIFAR10 dataset class implemented in `torchvision`, we will extend this class and modify the `__get_item__` method appropriately to load rotated images.\n",
        "\n",
        "Each rotation label should be an integer in the set {0, 1, 2, 3} which correspond to rotations of 0, 90, 180, or 270 degrees respectively."
      ]
    },
    {
      "cell_type": "code",
      "execution_count": 2,
      "metadata": {
        "id": "oHkeNUOKiFbP"
      },
      "outputs": [],
      "source": [
        "import torch\n",
        "import torchvision\n",
        "import torchvision.transforms as transforms\n",
        "import numpy as np\n",
        "import random\n",
        "\n",
        "ROTATION_ANGLE = [0,90,180,270]\n",
        "\n",
        "def rotate_img(img, rot):\n",
        "    rot = ROTATION_ANGLE[rot]\n",
        "    if rot == 0: # 0 degrees rotation\n",
        "        return img\n",
        "    # TODO: Implement rotate_img() - return the rotated img\n",
        "    elif rot in [90, 180, 270]:\n",
        "        return transforms.functional.rotate(img,rot)\n",
        "    else:\n",
        "        raise ValueError('rotation should be 0, 90, 180, or 270 degrees')\n",
        "\n",
        "\n",
        "class CIFAR10Rotation(torchvision.datasets.CIFAR10):\n",
        "\n",
        "    def __init__(self, root, train, download, transform) -> None:\n",
        "        super().__init__(root=root, train=train, download=download, transform=transform)\n",
        "\n",
        "    def __len__(self):\n",
        "        return len(self.data)\n",
        "\n",
        "    def __getitem__(self, index: int):\n",
        "        image, cls_label = super().__getitem__(index)\n",
        "\n",
        "        # randomly select image rotation\n",
        "        rotation_label = random.choice([0, 1, 2, 3])\n",
        "        image_rotated = rotate_img(image, rotation_label)\n",
        "\n",
        "        rotation_label = torch.tensor(rotation_label).long()\n",
        "        return image, image_rotated, rotation_label, torch.tensor(cls_label).long()"
      ]
    },
    {
      "cell_type": "code",
      "execution_count": 3,
      "metadata": {
        "colab": {
          "base_uri": "https://localhost:8080/"
        },
        "id": "CCBSpNWpb8uw",
        "outputId": "8cbde3ce-514b-4396-f8f5-dbd52640bb07"
      },
      "outputs": [
        {
          "output_type": "stream",
          "name": "stdout",
          "text": [
            "Files already downloaded and verified\n",
            "Files already downloaded and verified\n"
          ]
        }
      ],
      "source": [
        "transform_train = transforms.Compose([\n",
        "    transforms.RandomCrop(32, padding=4),\n",
        "    transforms.RandomHorizontalFlip(),\n",
        "    transforms.ToTensor(),\n",
        "    transforms.Normalize((0.4914, 0.4822, 0.4465), (0.2023, 0.1994, 0.2010)),\n",
        "])\n",
        "\n",
        "transform_test = transforms.Compose([\n",
        "    transforms.ToTensor(),\n",
        "    transforms.Normalize((0.4914, 0.4822, 0.4465), (0.2023, 0.1994, 0.2010)),\n",
        "])\n",
        "\n",
        "batch_size = 128\n",
        "\n",
        "trainset = CIFAR10Rotation(root='./data', train=True,\n",
        "                                        download=True, transform=transform_train)\n",
        "trainloader = torch.utils.data.DataLoader(trainset, batch_size=batch_size,\n",
        "                                          shuffle=True, num_workers=2)\n",
        "\n",
        "testset = CIFAR10Rotation(root='./data', train=False,\n",
        "                                       download=True, transform=transform_test)\n",
        "testloader = torch.utils.data.DataLoader(testset, batch_size=batch_size,\n",
        "                                         shuffle=False, num_workers=2)"
      ]
    },
    {
      "cell_type": "markdown",
      "metadata": {
        "id": "dOCWMyGhVOJB"
      },
      "source": [
        "Show some example images and rotated images with labels:"
      ]
    },
    {
      "cell_type": "code",
      "execution_count": 4,
      "metadata": {
        "colab": {
          "base_uri": "https://localhost:8080/",
          "height": 427
        },
        "id": "A9wN4BJWVMzB",
        "outputId": "cfd538da-380e-4409-9fe1-e5a1607b19d6"
      },
      "outputs": [
        {
          "output_type": "stream",
          "name": "stderr",
          "text": [
            "WARNING:matplotlib.image:Clipping input data to the valid range for imshow with RGB data ([0..1] for floats or [0..255] for integers).\n"
          ]
        },
        {
          "output_type": "display_data",
          "data": {
            "text/plain": [
              "<Figure size 640x480 with 1 Axes>"
            ],
            "image/png": "[encoded data removed]"
          },
          "metadata": {}
        },
        {
          "output_type": "stream",
          "name": "stderr",
          "text": [
            "WARNING:matplotlib.image:Clipping input data to the valid range for imshow with RGB data ([0..1] for floats or [0..255] for integers).\n"
          ]
        },
        {
          "output_type": "stream",
          "name": "stdout",
          "text": [
            "Class labels:  plane cat   cat   dog  \n"
          ]
        },
        {
          "output_type": "display_data",
          "data": {
            "text/plain": [
              "<Figure size 640x480 with 1 Axes>"
            ],
            "image/png": "[encoded data removed]"
          },
          "metadata": {}
        },
        {
          "output_type": "stream",
          "name": "stdout",
          "text": [
            "Rotation labels:  90    180   0     180  \n"
          ]
        }
      ],
      "source": [
        "import matplotlib.pyplot as plt\n",
        "\n",
        "classes = ('plane', 'car', 'bird', 'cat',\n",
        "           'deer', 'dog', 'frog', 'horse', 'ship', 'truck')\n",
        "\n",
        "rot_classes = ('0', '90', '180', '270')\n",
        "\n",
        "\n",
        "def imshow(img):\n",
        "    # unnormalize\n",
        "    img = transforms.Normalize((0, 0, 0), (1/0.2023, 1/0.1994, 1/0.2010))(img)\n",
        "    img = transforms.Normalize((-0.4914, -0.4822, -0.4465), (1, 1, 1))(img)\n",
        "    npimg = img.numpy()\n",
        "    plt.imshow(np.transpose(npimg, (1, 2, 0)))\n",
        "    plt.show()\n",
        "\n",
        "\n",
        "dataiter = iter(trainloader)\n",
        "images, rot_images, rot_labels, labels = next(dataiter)\n",
        "\n",
        "# print images and rotated images\n",
        "img_grid = imshow(torchvision.utils.make_grid(images[:4], padding=0))\n",
        "print('Class labels: ', ' '.join(f'{classes[labels[j]]:5s}' for j in range(4)))\n",
        "img_grid = imshow(torchvision.utils.make_grid(rot_images[:4], padding=0))\n",
        "print('Rotation labels: ', ' '.join(f'{rot_classes[rot_labels[j]]:5s}' for j in range(4)))"
      ]
    },
    {
      "cell_type": "markdown",
      "metadata": {
        "id": "unCucbHexG4W"
      },
      "source": [
        "#Evaluation code"
      ]
    },
    {
      "cell_type": "code",
      "execution_count": 5,
      "metadata": {
        "id": "pptQRpqK0rOl"
      },
      "outputs": [],
      "source": [
        "import time\n",
        "\n",
        "def run_test(net, testloader, criterion, task):\n",
        "    correct = 0\n",
        "    total = 0\n",
        "    avg_test_loss = 0.0\n",
        "    # since we're not training, we don't need to calculate the gradients for our outputs\n",
        "    with torch.no_grad():\n",
        "        for images, images_rotated, labels, cls_labels in testloader:\n",
        "            if task == 'rotation':\n",
        "              images, labels = images_rotated.to(device), labels.to(device)\n",
        "            elif task == 'classification':\n",
        "              images, labels = images.to(device), cls_labels.to(device)\n",
        "            # TODO: Calculate outputs by running images through the network\n",
        "            # The class with the highest energy is what we choose as prediction\n",
        "            outputs = net(images)\n",
        "            predicted = torch.max(outputs.data,1)[1]\n",
        "\n",
        "            total += labels.size(0)\n",
        "            correct += (predicted == labels).sum().item()\n",
        "            # loss\n",
        "            avg_test_loss += criterion(outputs, labels)  / len(testloader)\n",
        "    print('TESTING:')\n",
        "    print(f'Accuracy of the network on the 10000 test images: {100 * correct / total:.2f} %')\n",
        "    print(f'Average loss on the 10000 test images: {avg_test_loss:.3f}')"
      ]
    },
    {
      "cell_type": "code",
      "execution_count": 6,
      "metadata": {
        "id": "hf698c16A9k5"
      },
      "outputs": [],
      "source": [
        "def adjust_learning_rate(optimizer, epoch, init_lr, decay_epochs=30):\n",
        "    \"\"\"Sets the learning rate to the initial LR decayed by 10 every 30 epochs\"\"\"\n",
        "    lr = init_lr * (0.1 ** (epoch // decay_epochs))\n",
        "    for param_group in optimizer.param_groups:\n",
        "        param_group['lr'] = lr"
      ]
    },
    {
      "cell_type": "markdown",
      "metadata": {
        "id": "3lYdnb1Wsta_"
      },
      "source": [
        "#Train a ResNet18 on the rotation task\n",
        "\n",
        "In this section, we will train a ResNet18 model on the rotation task. The input is a rotated image and the model predicts the rotation label. See the Data Setup section for details."
      ]
    },
    {
      "cell_type": "code",
      "execution_count": 7,
      "metadata": {
        "colab": {
          "base_uri": "https://localhost:8080/",
          "height": 35
        },
        "id": "knAiwdURvBHk",
        "outputId": "0b75a6fe-c052-4461-dd87-0d83783e7a06"
      },
      "outputs": [
        {
          "output_type": "execute_result",
          "data": {
            "text/plain": [
              "'cuda'"
            ],
            "application/vnd.google.colaboratory.intrinsic+json": {
              "type": "string"
            }
          },
          "metadata": {},
          "execution_count": 7
        }
      ],
      "source": [
        "device = 'cuda' if torch.cuda.is_available() else 'cpu'\n",
        "device"
      ]
    },
    {
      "cell_type": "code",
      "execution_count": 8,
      "metadata": {
        "id": "235MEIUgsv65"
      },
      "outputs": [],
      "source": [
        "import torch.nn as nn\n",
        "import torch.nn.functional as F\n",
        "\n",
        "from torchvision.models import resnet18\n",
        "\n",
        "net = resnet18(num_classes=4)\n",
        "net = net.to(device)"
      ]
    },
    {
      "cell_type": "code",
      "execution_count": 9,
      "metadata": {
        "id": "Vuhiw0ZoszAd"
      },
      "outputs": [],
      "source": [
        "import torch.optim as optim\n",
        "criterion = None\n",
        "optimizer = None\n",
        "\n",
        "# TODO: Define criterion and optimizer\n",
        "optimizer = optim.Adam(params = net.parameters() ,lr = 1e-3)\n",
        "criterion = torch.nn.CrossEntropyLoss()"
      ]
    },
    {
      "cell_type": "code",
      "execution_count": 10,
      "metadata": {
        "id": "WleH-YBgs0rq"
      },
      "outputs": [],
      "source": [
        "# Both the self-supervised rotation task and supervised CIFAR10 classification are\n",
        "# trained with the CrossEntropyLoss, so we can use the training loop code.\n",
        "\n",
        "def train(net, criterion, optimizer, num_epochs, decay_epochs, init_lr, task):\n",
        "\n",
        "    for epoch in range(num_epochs):  # loop over the dataset multiple times\n",
        "\n",
        "        running_loss = 0.0\n",
        "        running_correct = 0.0\n",
        "        running_total = 0.0\n",
        "        start_time = time.time()\n",
        "\n",
        "        net.train()\n",
        "\n",
        "        for i, (imgs, imgs_rotated, rotation_label, cls_label) in enumerate(trainloader, 0):\n",
        "            adjust_learning_rate(optimizer, epoch, init_lr, decay_epochs)\n",
        "\n",
        "            # TODO: Set the data to the correct device; Different task will use different inputs and labels\n",
        "            if task == \"rotation\":\n",
        "              images, labels = imgs_rotated.to(device), rotation_label.to(device)\n",
        "            elif task == \"classification\":\n",
        "              images, labels = imgs.to(device), cls_label.to(device)\n",
        "\n",
        "            # TODO: Zero the parameter gradients\n",
        "            optimizer.zero_grad()\n",
        "\n",
        "            # TODO: forward + backward + optimize\n",
        "            output = net(images)\n",
        "            loss = criterion(output, labels)\n",
        "            loss.backward()\n",
        "            optimizer.step()\n",
        "\n",
        "            # TODO: Get predicted results\n",
        "            predicted = torch.max(output.data,1)[1]\n",
        "\n",
        "            # print statistics\n",
        "            print_freq = 100\n",
        "            running_loss += loss.item()\n",
        "\n",
        "            # calc acc\n",
        "            running_total += labels.size(0)\n",
        "            running_correct += (predicted == labels).sum().item()\n",
        "\n",
        "            if i % print_freq == (print_freq - 1):    # print every 2000 mini-batches\n",
        "                print(f'[{epoch + 1}, {i + 1:5d}] loss: {running_loss / print_freq:.3f} acc: {100*running_correct / running_total:.2f} time: {time.time() - start_time:.2f}')\n",
        "                running_loss, running_correct, running_total = 0.0, 0.0, 0.0\n",
        "                start_time = time.time()\n",
        "\n",
        "        # TODO: Run the run_test() function after each epoch; Set the model to the evaluation mode.\n",
        "        net.eval()\n",
        "        run_test(net, testloader, criterion, task)\n",
        "\n",
        "    print('Finished Training')"
      ]
    },
    {
      "cell_type": "code",
      "execution_count": 12,
      "metadata": {
        "colab": {
          "base_uri": "https://localhost:8080/"
        },
        "id": "2u4AsfAKtaQS",
        "outputId": "0dd5c18f-0de8-4f9e-ab4c-c6c630cea19a"
      },
      "outputs": [
        {
          "output_type": "stream",
          "name": "stdout",
          "text": [
            "[1,   100] loss: 1.562 acc: 34.26 time: 5.88\n",
            "[1,   200] loss: 1.245 acc: 44.40 time: 4.45\n",
            "[1,   300] loss: 1.250 acc: 45.41 time: 4.20\n",
            "TESTING:\n",
            "Accuracy of the network on the 10000 test images: 51.67 %\n",
            "Average loss on the 10000 test images: 1.103\n",
            "[2,   100] loss: 1.140 acc: 50.24 time: 4.34\n",
            "[2,   200] loss: 1.101 acc: 51.51 time: 4.27\n",
            "[2,   300] loss: 1.103 acc: 52.13 time: 4.34\n",
            "TESTING:\n",
            "Accuracy of the network on the 10000 test images: 55.01 %\n",
            "Average loss on the 10000 test images: 1.053\n",
            "[3,   100] loss: 1.072 acc: 54.02 time: 4.44\n",
            "[3,   200] loss: 1.061 acc: 54.62 time: 4.51\n",
            "[3,   300] loss: 1.045 acc: 55.31 time: 4.06\n",
            "TESTING:\n",
            "Accuracy of the network on the 10000 test images: 57.87 %\n",
            "Average loss on the 10000 test images: 0.997\n",
            "[4,   100] loss: 1.021 acc: 56.99 time: 4.29\n",
            "[4,   200] loss: 1.021 acc: 56.70 time: 4.37\n",
            "[4,   300] loss: 0.990 acc: 58.02 time: 4.31\n",
            "TESTING:\n",
            "Accuracy of the network on the 10000 test images: 59.25 %\n",
            "Average loss on the 10000 test images: 0.971\n",
            "[5,   100] loss: 0.973 acc: 58.99 time: 4.48\n",
            "[5,   200] loss: 0.962 acc: 59.49 time: 4.46\n",
            "[5,   300] loss: 0.958 acc: 59.47 time: 4.30\n",
            "TESTING:\n",
            "Accuracy of the network on the 10000 test images: 61.64 %\n",
            "Average loss on the 10000 test images: 0.933\n",
            "[6,   100] loss: 0.941 acc: 60.43 time: 4.18\n",
            "[6,   200] loss: 0.931 acc: 61.02 time: 4.45\n",
            "[6,   300] loss: 0.921 acc: 61.47 time: 4.12\n",
            "TESTING:\n",
            "Accuracy of the network on the 10000 test images: 62.47 %\n",
            "Average loss on the 10000 test images: 0.907\n",
            "[7,   100] loss: 0.902 acc: 62.72 time: 4.56\n",
            "[7,   200] loss: 0.903 acc: 61.94 time: 4.28\n",
            "[7,   300] loss: 0.907 acc: 61.72 time: 4.27\n",
            "TESTING:\n",
            "Accuracy of the network on the 10000 test images: 63.21 %\n",
            "Average loss on the 10000 test images: 0.887\n",
            "[8,   100] loss: 0.887 acc: 63.29 time: 4.33\n",
            "[8,   200] loss: 0.876 acc: 63.64 time: 4.63\n",
            "[8,   300] loss: 0.871 acc: 64.18 time: 4.27\n",
            "TESTING:\n",
            "Accuracy of the network on the 10000 test images: 65.58 %\n",
            "Average loss on the 10000 test images: 0.844\n",
            "[9,   100] loss: 0.857 acc: 64.58 time: 4.22\n",
            "[9,   200] loss: 0.863 acc: 64.33 time: 4.43\n",
            "[9,   300] loss: 0.855 acc: 64.21 time: 4.46\n",
            "TESTING:\n",
            "Accuracy of the network on the 10000 test images: 65.87 %\n",
            "Average loss on the 10000 test images: 0.840\n",
            "[10,   100] loss: 0.849 acc: 65.56 time: 4.52\n",
            "[10,   200] loss: 0.843 acc: 65.23 time: 4.41\n",
            "[10,   300] loss: 0.836 acc: 65.62 time: 4.16\n",
            "TESTING:\n",
            "Accuracy of the network on the 10000 test images: 66.82 %\n",
            "Average loss on the 10000 test images: 0.802\n",
            "[11,   100] loss: 0.815 acc: 66.40 time: 4.28\n",
            "[11,   200] loss: 0.829 acc: 65.46 time: 4.71\n",
            "[11,   300] loss: 0.816 acc: 66.38 time: 4.29\n",
            "TESTING:\n",
            "Accuracy of the network on the 10000 test images: 68.56 %\n",
            "Average loss on the 10000 test images: 0.771\n",
            "[12,   100] loss: 0.815 acc: 66.39 time: 4.53\n",
            "[12,   200] loss: 0.800 acc: 66.88 time: 4.37\n",
            "[12,   300] loss: 0.800 acc: 67.09 time: 4.17\n",
            "TESTING:\n",
            "Accuracy of the network on the 10000 test images: 68.49 %\n",
            "Average loss on the 10000 test images: 0.774\n",
            "[13,   100] loss: 0.787 acc: 68.23 time: 4.22\n",
            "[13,   200] loss: 0.790 acc: 68.00 time: 4.58\n",
            "[13,   300] loss: 0.798 acc: 67.46 time: 4.28\n",
            "TESTING:\n",
            "Accuracy of the network on the 10000 test images: 69.11 %\n",
            "Average loss on the 10000 test images: 0.754\n",
            "[14,   100] loss: 0.766 acc: 68.73 time: 4.53\n",
            "[14,   200] loss: 0.771 acc: 69.07 time: 4.63\n",
            "[14,   300] loss: 0.765 acc: 69.13 time: 4.42\n",
            "TESTING:\n",
            "Accuracy of the network on the 10000 test images: 70.42 %\n",
            "Average loss on the 10000 test images: 0.739\n",
            "[15,   100] loss: 0.755 acc: 69.59 time: 4.29\n",
            "[15,   200] loss: 0.748 acc: 69.71 time: 4.46\n",
            "[15,   300] loss: 0.739 acc: 69.95 time: 4.06\n",
            "TESTING:\n",
            "Accuracy of the network on the 10000 test images: 71.03 %\n",
            "Average loss on the 10000 test images: 0.721\n",
            "[16,   100] loss: 0.704 acc: 72.16 time: 4.19\n",
            "[16,   200] loss: 0.686 acc: 72.41 time: 4.12\n",
            "[16,   300] loss: 0.671 acc: 73.41 time: 4.19\n",
            "TESTING:\n",
            "Accuracy of the network on the 10000 test images: 74.26 %\n",
            "Average loss on the 10000 test images: 0.643\n",
            "[17,   100] loss: 0.662 acc: 73.43 time: 4.25\n",
            "[17,   200] loss: 0.668 acc: 73.41 time: 4.29\n",
            "[17,   300] loss: 0.653 acc: 73.59 time: 4.07\n",
            "TESTING:\n",
            "Accuracy of the network on the 10000 test images: 74.92 %\n",
            "Average loss on the 10000 test images: 0.628\n",
            "[18,   100] loss: 0.658 acc: 74.12 time: 3.94\n",
            "[18,   200] loss: 0.647 acc: 74.27 time: 4.15\n",
            "[18,   300] loss: 0.647 acc: 74.70 time: 4.26\n",
            "TESTING:\n",
            "Accuracy of the network on the 10000 test images: 75.15 %\n",
            "Average loss on the 10000 test images: 0.618\n",
            "[19,   100] loss: 0.652 acc: 74.15 time: 4.31\n",
            "[19,   200] loss: 0.646 acc: 74.48 time: 4.15\n",
            "[19,   300] loss: 0.649 acc: 74.34 time: 3.85\n",
            "TESTING:\n",
            "Accuracy of the network on the 10000 test images: 75.57 %\n",
            "Average loss on the 10000 test images: 0.617\n",
            "[20,   100] loss: 0.640 acc: 74.37 time: 4.00\n",
            "[20,   200] loss: 0.632 acc: 75.09 time: 4.08\n",
            "[20,   300] loss: 0.640 acc: 74.83 time: 4.10\n",
            "TESTING:\n",
            "Accuracy of the network on the 10000 test images: 76.16 %\n",
            "Average loss on the 10000 test images: 0.604\n",
            "[21,   100] loss: 0.633 acc: 74.85 time: 4.04\n",
            "[21,   200] loss: 0.635 acc: 74.95 time: 4.15\n",
            "[21,   300] loss: 0.612 acc: 76.12 time: 4.07\n",
            "TESTING:\n",
            "Accuracy of the network on the 10000 test images: 75.96 %\n",
            "Average loss on the 10000 test images: 0.601\n",
            "[22,   100] loss: 0.637 acc: 74.78 time: 4.12\n",
            "[22,   200] loss: 0.601 acc: 76.48 time: 4.15\n",
            "[22,   300] loss: 0.622 acc: 75.23 time: 4.09\n",
            "TESTING:\n",
            "Accuracy of the network on the 10000 test images: 75.79 %\n",
            "Average loss on the 10000 test images: 0.600\n",
            "[23,   100] loss: 0.613 acc: 75.78 time: 4.16\n",
            "[23,   200] loss: 0.616 acc: 75.88 time: 4.15\n",
            "[23,   300] loss: 0.610 acc: 75.95 time: 4.17\n",
            "TESTING:\n",
            "Accuracy of the network on the 10000 test images: 76.35 %\n",
            "Average loss on the 10000 test images: 0.597\n",
            "[24,   100] loss: 0.623 acc: 75.45 time: 4.47\n",
            "[24,   200] loss: 0.601 acc: 76.12 time: 4.05\n",
            "[24,   300] loss: 0.607 acc: 75.95 time: 4.13\n",
            "TESTING:\n",
            "Accuracy of the network on the 10000 test images: 76.86 %\n",
            "Average loss on the 10000 test images: 0.592\n",
            "[25,   100] loss: 0.613 acc: 76.01 time: 4.30\n",
            "[25,   200] loss: 0.608 acc: 75.91 time: 4.13\n",
            "[25,   300] loss: 0.605 acc: 76.05 time: 4.00\n",
            "TESTING:\n",
            "Accuracy of the network on the 10000 test images: 76.82 %\n",
            "Average loss on the 10000 test images: 0.589\n",
            "[26,   100] loss: 0.591 acc: 76.86 time: 4.44\n",
            "[26,   200] loss: 0.609 acc: 75.83 time: 4.09\n",
            "[26,   300] loss: 0.606 acc: 76.20 time: 4.29\n",
            "TESTING:\n",
            "Accuracy of the network on the 10000 test images: 76.90 %\n",
            "Average loss on the 10000 test images: 0.581\n",
            "[27,   100] loss: 0.589 acc: 76.77 time: 4.62\n",
            "[27,   200] loss: 0.606 acc: 76.00 time: 4.35\n",
            "[27,   300] loss: 0.598 acc: 76.38 time: 4.25\n",
            "TESTING:\n",
            "Accuracy of the network on the 10000 test images: 77.65 %\n",
            "Average loss on the 10000 test images: 0.571\n",
            "[28,   100] loss: 0.596 acc: 76.45 time: 4.34\n",
            "[28,   200] loss: 0.592 acc: 76.67 time: 4.14\n",
            "[28,   300] loss: 0.598 acc: 76.41 time: 4.19\n",
            "TESTING:\n",
            "Accuracy of the network on the 10000 test images: 77.58 %\n",
            "Average loss on the 10000 test images: 0.573\n",
            "[29,   100] loss: 0.585 acc: 76.90 time: 4.60\n",
            "[29,   200] loss: 0.591 acc: 76.94 time: 4.15\n",
            "[29,   300] loss: 0.587 acc: 76.71 time: 4.06\n",
            "TESTING:\n",
            "Accuracy of the network on the 10000 test images: 77.76 %\n",
            "Average loss on the 10000 test images: 0.569\n",
            "[30,   100] loss: 0.582 acc: 77.34 time: 4.44\n",
            "[30,   200] loss: 0.585 acc: 76.91 time: 4.21\n",
            "[30,   300] loss: 0.582 acc: 77.12 time: 4.17\n",
            "TESTING:\n",
            "Accuracy of the network on the 10000 test images: 77.46 %\n",
            "Average loss on the 10000 test images: 0.573\n",
            "[31,   100] loss: 0.588 acc: 76.80 time: 4.44\n",
            "[31,   200] loss: 0.577 acc: 76.83 time: 4.02\n",
            "[31,   300] loss: 0.566 acc: 77.84 time: 4.26\n",
            "TESTING:\n",
            "Accuracy of the network on the 10000 test images: 78.15 %\n",
            "Average loss on the 10000 test images: 0.559\n",
            "[32,   100] loss: 0.572 acc: 77.45 time: 4.50\n",
            "[32,   200] loss: 0.576 acc: 77.33 time: 4.25\n",
            "[32,   300] loss: 0.582 acc: 77.06 time: 3.93\n",
            "TESTING:\n",
            "Accuracy of the network on the 10000 test images: 78.13 %\n",
            "Average loss on the 10000 test images: 0.558\n",
            "[33,   100] loss: 0.583 acc: 77.12 time: 4.38\n",
            "[33,   200] loss: 0.571 acc: 77.53 time: 3.89\n",
            "[33,   300] loss: 0.569 acc: 77.38 time: 4.20\n",
            "TESTING:\n",
            "Accuracy of the network on the 10000 test images: 78.24 %\n",
            "Average loss on the 10000 test images: 0.557\n",
            "[34,   100] loss: 0.584 acc: 77.30 time: 4.31\n",
            "[34,   200] loss: 0.579 acc: 77.39 time: 4.17\n",
            "[34,   300] loss: 0.567 acc: 77.84 time: 3.86\n",
            "TESTING:\n",
            "Accuracy of the network on the 10000 test images: 78.41 %\n",
            "Average loss on the 10000 test images: 0.555\n",
            "[35,   100] loss: 0.579 acc: 77.70 time: 4.26\n",
            "[35,   200] loss: 0.569 acc: 77.77 time: 4.01\n",
            "[35,   300] loss: 0.553 acc: 78.43 time: 4.15\n",
            "TESTING:\n",
            "Accuracy of the network on the 10000 test images: 78.44 %\n",
            "Average loss on the 10000 test images: 0.555\n",
            "[36,   100] loss: 0.559 acc: 78.02 time: 4.36\n",
            "[36,   200] loss: 0.572 acc: 77.36 time: 4.00\n",
            "[36,   300] loss: 0.581 acc: 77.23 time: 3.90\n",
            "TESTING:\n",
            "Accuracy of the network on the 10000 test images: 77.89 %\n",
            "Average loss on the 10000 test images: 0.559\n",
            "[37,   100] loss: 0.553 acc: 77.88 time: 4.22\n",
            "[37,   200] loss: 0.573 acc: 77.77 time: 4.01\n",
            "[37,   300] loss: 0.566 acc: 77.60 time: 4.14\n",
            "TESTING:\n",
            "Accuracy of the network on the 10000 test images: 78.43 %\n",
            "Average loss on the 10000 test images: 0.552\n",
            "[38,   100] loss: 0.569 acc: 77.88 time: 4.29\n",
            "[38,   200] loss: 0.571 acc: 77.77 time: 4.08\n",
            "[38,   300] loss: 0.562 acc: 78.20 time: 3.95\n",
            "TESTING:\n",
            "Accuracy of the network on the 10000 test images: 78.34 %\n",
            "Average loss on the 10000 test images: 0.557\n",
            "[39,   100] loss: 0.563 acc: 77.88 time: 4.25\n",
            "[39,   200] loss: 0.561 acc: 77.97 time: 4.02\n",
            "[39,   300] loss: 0.571 acc: 77.35 time: 4.22\n",
            "TESTING:\n",
            "Accuracy of the network on the 10000 test images: 77.97 %\n",
            "Average loss on the 10000 test images: 0.559\n",
            "[40,   100] loss: 0.574 acc: 77.18 time: 4.39\n",
            "[40,   200] loss: 0.567 acc: 77.65 time: 4.14\n",
            "[40,   300] loss: 0.564 acc: 77.73 time: 4.19\n",
            "TESTING:\n",
            "Accuracy of the network on the 10000 test images: 78.07 %\n",
            "Average loss on the 10000 test images: 0.562\n",
            "[41,   100] loss: 0.557 acc: 78.36 time: 4.33\n",
            "[41,   200] loss: 0.557 acc: 78.31 time: 4.01\n",
            "[41,   300] loss: 0.567 acc: 77.66 time: 4.16\n",
            "TESTING:\n",
            "Accuracy of the network on the 10000 test images: 77.91 %\n",
            "Average loss on the 10000 test images: 0.556\n",
            "[42,   100] loss: 0.562 acc: 78.11 time: 4.58\n",
            "[42,   200] loss: 0.561 acc: 78.18 time: 4.05\n",
            "[42,   300] loss: 0.570 acc: 77.63 time: 4.07\n",
            "TESTING:\n",
            "Accuracy of the network on the 10000 test images: 78.57 %\n",
            "Average loss on the 10000 test images: 0.549\n",
            "[43,   100] loss: 0.559 acc: 78.22 time: 4.34\n",
            "[43,   200] loss: 0.564 acc: 77.92 time: 4.01\n",
            "[43,   300] loss: 0.555 acc: 78.21 time: 4.17\n",
            "TESTING:\n",
            "Accuracy of the network on the 10000 test images: 77.89 %\n",
            "Average loss on the 10000 test images: 0.556\n",
            "[44,   100] loss: 0.563 acc: 77.87 time: 4.37\n",
            "[44,   200] loss: 0.560 acc: 78.20 time: 3.78\n",
            "[44,   300] loss: 0.572 acc: 77.36 time: 3.95\n",
            "TESTING:\n",
            "Accuracy of the network on the 10000 test images: 78.36 %\n",
            "Average loss on the 10000 test images: 0.551\n",
            "[45,   100] loss: 0.566 acc: 78.01 time: 4.37\n",
            "[45,   200] loss: 0.565 acc: 77.65 time: 3.94\n",
            "[45,   300] loss: 0.559 acc: 77.91 time: 3.99\n",
            "TESTING:\n",
            "Accuracy of the network on the 10000 test images: 78.79 %\n",
            "Average loss on the 10000 test images: 0.549\n",
            "Finished Training\n"
          ]
        }
      ],
      "source": [
        "train(net, criterion, optimizer, num_epochs=45, decay_epochs=15, init_lr=0.01, task='rotation')\n",
        "\n",
        "# TODO: Save the model\n",
        "torch.save(net.state_dict(),\"./final_project_1.pth\")"
      ]
    },
    {
      "cell_type": "markdown",
      "metadata": {
        "id": "PLLMRTS9rTnk"
      },
      "source": [
        "##Fine-tuning on the pre-trained model\n",
        "\n",
        "In this section, we will load the pre-trained ResNet18 model and fine-tune on the classification task. We will freeze all previous layers except for the 'layer4' block and 'fc' layer."
      ]
    },
    {
      "cell_type": "code",
      "execution_count": null,
      "metadata": {
        "id": "5qbAZ0ErvbLn"
      },
      "outputs": [],
      "source": [
        "os.environ['CUDA_LAUNCH_BLOCKING'] = '1'\n",
        "os.environ[\"CUDA_VISIBLE_DEVICES\"] = \"0\"\n",
        "os.environ[\"TORCH_USE_CUDA_DSA\"] = '1'\n"
      ]
    },
    {
      "cell_type": "code",
      "execution_count": 11,
      "metadata": {
        "id": "S4nX4ExlrymI"
      },
      "outputs": [],
      "source": [
        "import torch.nn as nn\n",
        "import torch.nn.functional as F\n",
        "\n",
        "from torchvision.models import resnet18\n",
        "\n",
        "# TODO: Load the pre-trained ResNet18 model\n",
        "pretrained_dict = torch.load('./final_project_1.pth') # Load your pretrained weights"
      ]
    },
    {
      "cell_type": "code",
      "execution_count": 12,
      "metadata": {
        "id": "kD44g-TxwYdU",
        "colab": {
          "base_uri": "https://localhost:8080/"
        },
        "outputId": "5fc90904-773a-4842-b9ca-1576f7dca833"
      },
      "outputs": [
        {
          "output_type": "stream",
          "name": "stderr",
          "text": [
            "/usr/local/lib/python3.10/dist-packages/torchvision/models/_utils.py:208: UserWarning: The parameter 'pretrained' is deprecated since 0.13 and may be removed in the future, please use 'weights' instead.\n",
            "  warnings.warn(\n",
            "/usr/local/lib/python3.10/dist-packages/torchvision/models/_utils.py:223: UserWarning: Arguments other than a weight enum or `None` for 'weights' are deprecated since 0.13 and may be removed in the future. The current behavior is equivalent to passing `weights=None`.\n",
            "  warnings.warn(msg)\n"
          ]
        }
      ],
      "source": [
        "# TODO: Freeze all previous layers; only keep the 'layer4' block and 'fc' layer trainable\n",
        "net = resnet18(pretrained=False)\n",
        "net.fc = nn.Linear(512, 10) # Change the last layer for CIFAR10\n",
        "\n",
        "# Freeze the previous layers\n",
        "for name, param in net.named_parameters():\n",
        "    if 'layer4' not in name and 'fc' not in name:\n",
        "        param.requires_grad = False\n",
        "\n",
        "# Load the pretrained model\n",
        "pretrained_dict = {k: v for k, v in pretrained_dict.items() if k in net.state_dict() and net.state_dict()[k].shape == pretrained_dict[k].shape}\n",
        "\n",
        "# Update the current model\n",
        "net.load_state_dict(pretrained_dict, strict=False)\n",
        "net = net.to(device)"
      ]
    },
    {
      "cell_type": "code",
      "execution_count": 13,
      "metadata": {
        "colab": {
          "base_uri": "https://localhost:8080/"
        },
        "id": "9T5DX0efr4fh",
        "outputId": "6967e601-2714-4dad-cbef-c4781a65a7c6"
      },
      "outputs": [
        {
          "output_type": "stream",
          "name": "stdout",
          "text": [
            "Params to learn:\n",
            "\t layer4.0.conv1.weight\n",
            "\t layer4.0.bn1.weight\n",
            "\t layer4.0.bn1.bias\n",
            "\t layer4.0.conv2.weight\n",
            "\t layer4.0.bn2.weight\n",
            "\t layer4.0.bn2.bias\n",
            "\t layer4.0.downsample.0.weight\n",
            "\t layer4.0.downsample.1.weight\n",
            "\t layer4.0.downsample.1.bias\n",
            "\t layer4.1.conv1.weight\n",
            "\t layer4.1.bn1.weight\n",
            "\t layer4.1.bn1.bias\n",
            "\t layer4.1.conv2.weight\n",
            "\t layer4.1.bn2.weight\n",
            "\t layer4.1.bn2.bias\n",
            "\t fc.weight\n",
            "\t fc.bias\n"
          ]
        }
      ],
      "source": [
        "# Print all the trainable parameters\n",
        "params_to_update = net.parameters()\n",
        "print(\"Params to learn:\")\n",
        "params_to_update = []\n",
        "for name,param in net.named_parameters():\n",
        "    if param.requires_grad == True:\n",
        "        params_to_update.append(param)\n",
        "        print(\"\\t\",name)"
      ]
    },
    {
      "cell_type": "code",
      "execution_count": 14,
      "metadata": {
        "id": "xb032dG700ph"
      },
      "outputs": [],
      "source": [
        "# TODO: Define criterion and optimizer\n",
        "# Note that your optimizer only needs to update the parameters that are trainable.\n",
        "criterion = torch.nn.CrossEntropyLoss()\n",
        "optimizer = optim.Adam(params_to_update, lr = 1e-3)"
      ]
    },
    {
      "cell_type": "code",
      "execution_count": 15,
      "metadata": {
        "colab": {
          "base_uri": "https://localhost:8080/"
        },
        "id": "3vLSwOo6sBjl",
        "outputId": "eda061f1-581b-4a22-d878-5b1560078315"
      },
      "outputs": [
        {
          "output_type": "stream",
          "name": "stdout",
          "text": [
            "[1,   100] loss: 1.789 acc: 33.89 time: 4.92\n",
            "[1,   200] loss: 1.503 acc: 45.48 time: 4.39\n",
            "[1,   300] loss: 1.438 acc: 46.70 time: 4.14\n",
            "TESTING:\n",
            "Accuracy of the network on the 10000 test images: 50.13 %\n",
            "Average loss on the 10000 test images: 1.390\n",
            "[2,   100] loss: 1.381 acc: 49.78 time: 4.79\n",
            "[2,   200] loss: 1.372 acc: 50.03 time: 4.71\n",
            "[2,   300] loss: 1.366 acc: 50.59 time: 4.23\n",
            "TESTING:\n",
            "Accuracy of the network on the 10000 test images: 52.38 %\n",
            "Average loss on the 10000 test images: 1.323\n",
            "[3,   100] loss: 1.341 acc: 51.37 time: 4.24\n",
            "[3,   200] loss: 1.311 acc: 52.06 time: 4.45\n",
            "[3,   300] loss: 1.297 acc: 52.80 time: 4.90\n",
            "TESTING:\n",
            "Accuracy of the network on the 10000 test images: 52.65 %\n",
            "Average loss on the 10000 test images: 1.320\n",
            "[4,   100] loss: 1.289 acc: 53.66 time: 4.42\n",
            "[4,   200] loss: 1.296 acc: 53.77 time: 4.41\n",
            "[4,   300] loss: 1.282 acc: 53.02 time: 4.16\n",
            "TESTING:\n",
            "Accuracy of the network on the 10000 test images: 55.99 %\n",
            "Average loss on the 10000 test images: 1.231\n",
            "[5,   100] loss: 1.280 acc: 53.37 time: 4.42\n",
            "[5,   200] loss: 1.285 acc: 53.59 time: 4.52\n",
            "[5,   300] loss: 1.249 acc: 54.93 time: 4.16\n",
            "TESTING:\n",
            "Accuracy of the network on the 10000 test images: 54.77 %\n",
            "Average loss on the 10000 test images: 1.273\n",
            "[6,   100] loss: 1.263 acc: 54.90 time: 4.35\n",
            "[6,   200] loss: 1.250 acc: 55.07 time: 4.27\n",
            "[6,   300] loss: 1.252 acc: 55.12 time: 4.06\n",
            "TESTING:\n",
            "Accuracy of the network on the 10000 test images: 56.44 %\n",
            "Average loss on the 10000 test images: 1.230\n",
            "[7,   100] loss: 1.258 acc: 54.82 time: 4.23\n",
            "[7,   200] loss: 1.229 acc: 55.52 time: 4.37\n",
            "[7,   300] loss: 1.231 acc: 55.70 time: 4.06\n",
            "TESTING:\n",
            "Accuracy of the network on the 10000 test images: 55.36 %\n",
            "Average loss on the 10000 test images: 1.258\n",
            "[8,   100] loss: 1.216 acc: 55.96 time: 4.24\n",
            "[8,   200] loss: 1.240 acc: 54.99 time: 4.24\n",
            "[8,   300] loss: 1.225 acc: 55.70 time: 4.23\n",
            "TESTING:\n",
            "Accuracy of the network on the 10000 test images: 57.44 %\n",
            "Average loss on the 10000 test images: 1.195\n",
            "[9,   100] loss: 1.191 acc: 56.96 time: 4.20\n",
            "[9,   200] loss: 1.232 acc: 55.80 time: 4.37\n",
            "[9,   300] loss: 1.226 acc: 56.04 time: 4.10\n",
            "TESTING:\n",
            "Accuracy of the network on the 10000 test images: 57.90 %\n",
            "Average loss on the 10000 test images: 1.181\n",
            "[10,   100] loss: 1.193 acc: 56.73 time: 4.18\n",
            "[10,   200] loss: 1.205 acc: 56.54 time: 4.27\n",
            "[10,   300] loss: 1.201 acc: 56.67 time: 4.22\n",
            "TESTING:\n",
            "Accuracy of the network on the 10000 test images: 57.36 %\n",
            "Average loss on the 10000 test images: 1.188\n",
            "[11,   100] loss: 1.182 acc: 57.78 time: 4.34\n",
            "[11,   200] loss: 1.134 acc: 58.74 time: 4.32\n",
            "[11,   300] loss: 1.168 acc: 57.98 time: 4.10\n",
            "TESTING:\n",
            "Accuracy of the network on the 10000 test images: 59.63 %\n",
            "Average loss on the 10000 test images: 1.131\n",
            "[12,   100] loss: 1.141 acc: 58.63 time: 4.22\n",
            "[12,   200] loss: 1.144 acc: 58.62 time: 4.44\n",
            "[12,   300] loss: 1.130 acc: 59.48 time: 4.23\n",
            "TESTING:\n",
            "Accuracy of the network on the 10000 test images: 59.63 %\n",
            "Average loss on the 10000 test images: 1.133\n",
            "[13,   100] loss: 1.128 acc: 59.12 time: 4.44\n",
            "[13,   200] loss: 1.142 acc: 58.70 time: 4.34\n",
            "[13,   300] loss: 1.126 acc: 59.02 time: 4.03\n",
            "TESTING:\n",
            "Accuracy of the network on the 10000 test images: 60.05 %\n",
            "Average loss on the 10000 test images: 1.118\n",
            "[14,   100] loss: 1.136 acc: 58.93 time: 4.25\n",
            "[14,   200] loss: 1.149 acc: 58.76 time: 4.26\n",
            "[14,   300] loss: 1.123 acc: 59.17 time: 4.02\n",
            "TESTING:\n",
            "Accuracy of the network on the 10000 test images: 60.12 %\n",
            "Average loss on the 10000 test images: 1.123\n",
            "[15,   100] loss: 1.131 acc: 58.93 time: 4.31\n",
            "[15,   200] loss: 1.104 acc: 60.38 time: 4.19\n",
            "[15,   300] loss: 1.117 acc: 59.79 time: 3.97\n",
            "TESTING:\n",
            "Accuracy of the network on the 10000 test images: 60.06 %\n",
            "Average loss on the 10000 test images: 1.121\n",
            "[16,   100] loss: 1.116 acc: 59.87 time: 4.14\n",
            "[16,   200] loss: 1.120 acc: 58.98 time: 4.48\n",
            "[16,   300] loss: 1.127 acc: 59.77 time: 4.12\n",
            "TESTING:\n",
            "Accuracy of the network on the 10000 test images: 60.26 %\n",
            "Average loss on the 10000 test images: 1.111\n",
            "[17,   100] loss: 1.125 acc: 59.62 time: 4.34\n",
            "[17,   200] loss: 1.110 acc: 59.59 time: 4.37\n",
            "[17,   300] loss: 1.110 acc: 60.22 time: 4.13\n",
            "TESTING:\n",
            "Accuracy of the network on the 10000 test images: 60.46 %\n",
            "Average loss on the 10000 test images: 1.114\n",
            "[18,   100] loss: 1.100 acc: 60.15 time: 4.22\n",
            "[18,   200] loss: 1.112 acc: 59.62 time: 4.46\n",
            "[18,   300] loss: 1.112 acc: 59.88 time: 4.00\n",
            "TESTING:\n",
            "Accuracy of the network on the 10000 test images: 60.25 %\n",
            "Average loss on the 10000 test images: 1.109\n",
            "[19,   100] loss: 1.111 acc: 60.01 time: 4.33\n",
            "[19,   200] loss: 1.106 acc: 60.05 time: 4.34\n",
            "[19,   300] loss: 1.105 acc: 60.09 time: 4.19\n",
            "TESTING:\n",
            "Accuracy of the network on the 10000 test images: 60.63 %\n",
            "Average loss on the 10000 test images: 1.110\n",
            "[20,   100] loss: 1.098 acc: 60.38 time: 4.05\n",
            "[20,   200] loss: 1.115 acc: 60.13 time: 4.41\n",
            "[20,   300] loss: 1.100 acc: 60.34 time: 4.12\n",
            "TESTING:\n",
            "Accuracy of the network on the 10000 test images: 61.00 %\n",
            "Average loss on the 10000 test images: 1.104\n",
            "Finished Training\n"
          ]
        }
      ],
      "source": [
        "train(net, criterion, optimizer, num_epochs=20, decay_epochs=10, init_lr=0.01, task='classification')\n",
        "\n",
        "torch.save(net.state_dict(),\"./final_project_2_rotation.pth\")"
      ]
    },
    {
      "cell_type": "markdown",
      "metadata": {
        "id": "ghPNhcJBrcNj"
      },
      "source": [
        "## Fine-tuning on the randomly initialized model\n",
        "In this section, we will randomly initialize a ResNet18 model and fine-tune on the classification task. We will freeze all previous layers except for the 'layer4' block and 'fc' layer."
      ]
    },
    {
      "cell_type": "code",
      "execution_count": 16,
      "metadata": {
        "id": "2RfXAh9vxXRB"
      },
      "outputs": [],
      "source": [
        "import torch.nn as nn\n",
        "import torch.nn.functional as F\n",
        "\n",
        "from torchvision.models import resnet18\n",
        "\n",
        "# TODO: Randomly initialize a ResNet18 model\n",
        "net = resnet18(pretrained=False)\n",
        "net.fc = nn.Linear(512, 10) # Change the last layer for CIFAR10"
      ]
    },
    {
      "cell_type": "code",
      "execution_count": 17,
      "metadata": {
        "id": "fpx-SYAizt4p"
      },
      "outputs": [],
      "source": [
        "# TODO: Freeze all previous layers; only keep the 'layer4' block and 'fc' layer trainable\n",
        "# To do this, you should set requires_grad=False for the frozen layers.\n",
        "pretrained_dict = net.state_dict()\n",
        "\n",
        "for name, param in net.named_parameters():\n",
        "    if 'layer4' not in name and 'fc' not in name:\n",
        "        param.requires_grad = False\n",
        "\n",
        "# Load the pretrained model\n",
        "pretrained_dict = {k: v for k, v in pretrained_dict.items() if k in net.state_dict() and net.state_dict()[k].shape == pretrained_dict[k].shape}\n",
        "\n",
        "# Update the current model\n",
        "net.load_state_dict(pretrained_dict, strict=False)\n",
        "net = net.to(device)"
      ]
    },
    {
      "cell_type": "code",
      "execution_count": 18,
      "metadata": {
        "id": "BUFWizbHxgm2",
        "colab": {
          "base_uri": "https://localhost:8080/"
        },
        "outputId": "7fb001b9-12a0-41af-b27d-d7bf81dc533d"
      },
      "outputs": [
        {
          "output_type": "stream",
          "name": "stdout",
          "text": [
            "Params to learn:\n",
            "\t layer4.0.conv1.weight\n",
            "\t layer4.0.bn1.weight\n",
            "\t layer4.0.bn1.bias\n",
            "\t layer4.0.conv2.weight\n",
            "\t layer4.0.bn2.weight\n",
            "\t layer4.0.bn2.bias\n",
            "\t layer4.0.downsample.0.weight\n",
            "\t layer4.0.downsample.1.weight\n",
            "\t layer4.0.downsample.1.bias\n",
            "\t layer4.1.conv1.weight\n",
            "\t layer4.1.bn1.weight\n",
            "\t layer4.1.bn1.bias\n",
            "\t layer4.1.conv2.weight\n",
            "\t layer4.1.bn2.weight\n",
            "\t layer4.1.bn2.bias\n",
            "\t fc.weight\n",
            "\t fc.bias\n"
          ]
        }
      ],
      "source": [
        "# Print all the trainable parameters\n",
        "params_to_update = net.parameters()\n",
        "print(\"Params to learn:\")\n",
        "params_to_update = []\n",
        "for name,param in net.named_parameters():\n",
        "    if param.requires_grad == True:\n",
        "        params_to_update.append(param)\n",
        "        print(\"\\t\",name)"
      ]
    },
    {
      "cell_type": "code",
      "execution_count": 19,
      "metadata": {
        "id": "BxFrGj091AN_"
      },
      "outputs": [],
      "source": [
        "# TODO: Define criterion and optimizer\n",
        "# Note that your optimizer only needs to update the parameters that are trainable.\n",
        "import torch.optim as optim\n",
        "\n",
        "criterion = torch.nn.CrossEntropyLoss()\n",
        "optimizer = optim.Adam(params_to_update, lr = 1e-3, weight_decay = 5e-4)"
      ]
    },
    {
      "cell_type": "code",
      "execution_count": 20,
      "metadata": {
        "id": "GzRVy0MZxpoL",
        "colab": {
          "base_uri": "https://localhost:8080/"
        },
        "outputId": "c5b42614-9689-42b0-e00c-5ca1212b9478"
      },
      "outputs": [
        {
          "output_type": "stream",
          "name": "stdout",
          "text": [
            "[1,   100] loss: 2.216 acc: 25.51 time: 4.26\n",
            "[1,   200] loss: 1.922 acc: 30.37 time: 3.97\n",
            "[1,   300] loss: 1.889 acc: 31.24 time: 4.08\n",
            "TESTING:\n",
            "Accuracy of the network on the 10000 test images: 33.58 %\n",
            "Average loss on the 10000 test images: 1.819\n",
            "[2,   100] loss: 1.859 acc: 32.07 time: 4.27\n",
            "[2,   200] loss: 1.879 acc: 31.28 time: 4.13\n",
            "[2,   300] loss: 1.858 acc: 32.50 time: 3.85\n",
            "TESTING:\n",
            "Accuracy of the network on the 10000 test images: 33.18 %\n",
            "Average loss on the 10000 test images: 1.824\n",
            "[3,   100] loss: 1.836 acc: 33.27 time: 4.21\n",
            "[3,   200] loss: 1.831 acc: 33.80 time: 3.97\n",
            "[3,   300] loss: 1.843 acc: 32.69 time: 4.13\n",
            "TESTING:\n",
            "Accuracy of the network on the 10000 test images: 35.23 %\n",
            "Average loss on the 10000 test images: 1.772\n",
            "[4,   100] loss: 1.826 acc: 33.53 time: 4.24\n",
            "[4,   200] loss: 1.804 acc: 34.73 time: 4.06\n",
            "[4,   300] loss: 1.826 acc: 34.16 time: 3.84\n",
            "TESTING:\n",
            "Accuracy of the network on the 10000 test images: 35.77 %\n",
            "Average loss on the 10000 test images: 1.748\n",
            "[5,   100] loss: 1.804 acc: 34.44 time: 4.21\n",
            "[5,   200] loss: 1.810 acc: 33.84 time: 3.84\n",
            "[5,   300] loss: 1.813 acc: 34.04 time: 4.02\n",
            "TESTING:\n",
            "Accuracy of the network on the 10000 test images: 37.49 %\n",
            "Average loss on the 10000 test images: 1.727\n",
            "[6,   100] loss: 1.807 acc: 34.66 time: 4.10\n",
            "[6,   200] loss: 1.820 acc: 34.02 time: 4.10\n",
            "[6,   300] loss: 1.807 acc: 34.69 time: 3.97\n",
            "TESTING:\n",
            "Accuracy of the network on the 10000 test images: 34.40 %\n",
            "Average loss on the 10000 test images: 1.802\n",
            "[7,   100] loss: 1.815 acc: 34.45 time: 4.16\n",
            "[7,   200] loss: 1.803 acc: 34.84 time: 3.92\n",
            "[7,   300] loss: 1.799 acc: 34.33 time: 4.08\n",
            "TESTING:\n",
            "Accuracy of the network on the 10000 test images: 37.86 %\n",
            "Average loss on the 10000 test images: 1.717\n",
            "[8,   100] loss: 1.806 acc: 34.34 time: 4.27\n",
            "[8,   200] loss: 1.797 acc: 34.87 time: 4.12\n",
            "[8,   300] loss: 1.811 acc: 34.01 time: 3.98\n",
            "TESTING:\n",
            "Accuracy of the network on the 10000 test images: 37.33 %\n",
            "Average loss on the 10000 test images: 1.725\n",
            "[9,   100] loss: 1.788 acc: 35.25 time: 4.31\n",
            "[9,   200] loss: 1.799 acc: 34.43 time: 3.91\n",
            "[9,   300] loss: 1.782 acc: 35.45 time: 3.99\n",
            "TESTING:\n",
            "Accuracy of the network on the 10000 test images: 36.70 %\n",
            "Average loss on the 10000 test images: 1.769\n",
            "[10,   100] loss: 1.803 acc: 35.15 time: 4.10\n",
            "[10,   200] loss: 1.804 acc: 34.30 time: 3.90\n",
            "[10,   300] loss: 1.789 acc: 35.23 time: 3.79\n",
            "TESTING:\n",
            "Accuracy of the network on the 10000 test images: 37.36 %\n",
            "Average loss on the 10000 test images: 1.749\n",
            "[11,   100] loss: 1.780 acc: 35.48 time: 4.43\n",
            "[11,   200] loss: 1.751 acc: 36.90 time: 3.93\n",
            "[11,   300] loss: 1.744 acc: 36.70 time: 4.25\n",
            "TESTING:\n",
            "Accuracy of the network on the 10000 test images: 40.38 %\n",
            "Average loss on the 10000 test images: 1.654\n",
            "[12,   100] loss: 1.733 acc: 37.40 time: 4.28\n",
            "[12,   200] loss: 1.726 acc: 37.55 time: 4.11\n",
            "[12,   300] loss: 1.714 acc: 37.82 time: 3.98\n",
            "TESTING:\n",
            "Accuracy of the network on the 10000 test images: 41.41 %\n",
            "Average loss on the 10000 test images: 1.642\n",
            "[13,   100] loss: 1.705 acc: 38.46 time: 4.19\n",
            "[13,   200] loss: 1.713 acc: 38.54 time: 3.91\n",
            "[13,   300] loss: 1.716 acc: 38.30 time: 4.07\n",
            "TESTING:\n",
            "Accuracy of the network on the 10000 test images: 42.17 %\n",
            "Average loss on the 10000 test images: 1.622\n",
            "[14,   100] loss: 1.691 acc: 38.65 time: 4.19\n",
            "[14,   200] loss: 1.709 acc: 38.06 time: 3.98\n",
            "[14,   300] loss: 1.692 acc: 39.37 time: 3.89\n",
            "TESTING:\n",
            "Accuracy of the network on the 10000 test images: 42.07 %\n",
            "Average loss on the 10000 test images: 1.617\n",
            "[15,   100] loss: 1.689 acc: 38.66 time: 4.13\n",
            "[15,   200] loss: 1.690 acc: 39.43 time: 3.95\n",
            "[15,   300] loss: 1.698 acc: 38.79 time: 4.07\n",
            "TESTING:\n",
            "Accuracy of the network on the 10000 test images: 43.05 %\n",
            "Average loss on the 10000 test images: 1.611\n",
            "[16,   100] loss: 1.690 acc: 38.76 time: 4.18\n",
            "[16,   200] loss: 1.687 acc: 39.24 time: 4.01\n",
            "[16,   300] loss: 1.679 acc: 38.93 time: 3.90\n",
            "TESTING:\n",
            "Accuracy of the network on the 10000 test images: 42.82 %\n",
            "Average loss on the 10000 test images: 1.605\n",
            "[17,   100] loss: 1.682 acc: 39.70 time: 4.10\n",
            "[17,   200] loss: 1.685 acc: 39.33 time: 3.88\n",
            "[17,   300] loss: 1.681 acc: 39.48 time: 3.94\n",
            "TESTING:\n",
            "Accuracy of the network on the 10000 test images: 42.37 %\n",
            "Average loss on the 10000 test images: 1.601\n",
            "[18,   100] loss: 1.685 acc: 39.20 time: 4.19\n",
            "[18,   200] loss: 1.684 acc: 39.69 time: 4.02\n",
            "[18,   300] loss: 1.683 acc: 39.14 time: 3.81\n",
            "TESTING:\n",
            "Accuracy of the network on the 10000 test images: 42.65 %\n",
            "Average loss on the 10000 test images: 1.606\n",
            "[19,   100] loss: 1.679 acc: 39.59 time: 4.24\n",
            "[19,   200] loss: 1.675 acc: 39.61 time: 3.97\n",
            "[19,   300] loss: 1.683 acc: 39.17 time: 4.04\n",
            "TESTING:\n",
            "Accuracy of the network on the 10000 test images: 42.80 %\n",
            "Average loss on the 10000 test images: 1.597\n",
            "[20,   100] loss: 1.673 acc: 39.98 time: 4.20\n",
            "[20,   200] loss: 1.682 acc: 39.68 time: 3.96\n",
            "[20,   300] loss: 1.682 acc: 39.58 time: 3.90\n",
            "TESTING:\n",
            "Accuracy of the network on the 10000 test images: 43.27 %\n",
            "Average loss on the 10000 test images: 1.595\n",
            "Finished Training\n"
          ]
        }
      ],
      "source": [
        "train(net, criterion, optimizer, num_epochs=20, decay_epochs=10, init_lr=0.01, task='classification')\n",
        "torch.save(net.state_dict(),\"./final_project_2_random.pth\")"
      ]
    },
    {
      "cell_type": "markdown",
      "metadata": {
        "id": "WcN54tcNN15U"
      },
      "source": [
        "##Supervised training on the pre-trained model\n",
        "In this section, we will load the pre-trained ResNet18 model and re-train the whole model on the classification task."
      ]
    },
    {
      "cell_type": "code",
      "execution_count": 21,
      "metadata": {
        "id": "9xR9h_S1N6Xi",
        "colab": {
          "base_uri": "https://localhost:8080/"
        },
        "outputId": "902f238c-6117-4e07-b77a-b044e8096e61"
      },
      "outputs": [
        {
          "output_type": "stream",
          "name": "stderr",
          "text": [
            "/usr/local/lib/python3.10/dist-packages/torchvision/models/_utils.py:208: UserWarning: The parameter 'pretrained' is deprecated since 0.13 and may be removed in the future, please use 'weights' instead.\n",
            "  warnings.warn(\n",
            "/usr/local/lib/python3.10/dist-packages/torchvision/models/_utils.py:223: UserWarning: Arguments other than a weight enum or `None` for 'weights' are deprecated since 0.13 and may be removed in the future. The current behavior is equivalent to passing `weights=None`.\n",
            "  warnings.warn(msg)\n"
          ]
        }
      ],
      "source": [
        "import torch.nn as nn\n",
        "import torch.nn.functional as F\n",
        "\n",
        "from torchvision.models import resnet18\n",
        "\n",
        "# TODO: Load the pre-trained ResNet18 model\n",
        "pretrained_model = resnet18(pretrained=False) # set to False if you don't want to download pretrained weights on ImageNet\n",
        "net = resnet18(pretrained=False)\n",
        "net.fc = nn.Linear(512, 10) # Change the last layer for CIFAR10\n",
        "\n",
        "pretrained_dict = torch.load('./final_project_1.pth') # Load your pretrained weights\n",
        "pretrained_dict = {k: v for k, v in pretrained_dict.items() if k in net.state_dict() and net.state_dict()[k].shape == pretrained_dict[k].shape}\n",
        "\n",
        "net.load_state_dict(pretrained_dict, strict=False)\n",
        "net = net.to(device)\n"
      ]
    },
    {
      "cell_type": "code",
      "execution_count": 22,
      "metadata": {
        "id": "gGozc2cM0ADw"
      },
      "outputs": [],
      "source": [
        "# TODO: Define criterion and optimizer\n",
        "criterion = torch.nn.CrossEntropyLoss()\n",
        "optimizer = optim.Adam(net.parameters(), lr = 1e-3)"
      ]
    },
    {
      "cell_type": "code",
      "execution_count": 23,
      "metadata": {
        "id": "JGWW7gzCz_Bu",
        "colab": {
          "base_uri": "https://localhost:8080/"
        },
        "outputId": "97b8deda-4074-48e2-f5bf-15c7b5af8872"
      },
      "outputs": [
        {
          "output_type": "stream",
          "name": "stdout",
          "text": [
            "[1,   100] loss: 1.510 acc: 43.82 time: 4.31\n",
            "[1,   200] loss: 1.184 acc: 57.44 time: 4.07\n",
            "[1,   300] loss: 1.082 acc: 61.56 time: 3.92\n",
            "TESTING:\n",
            "Accuracy of the network on the 10000 test images: 65.75 %\n",
            "Average loss on the 10000 test images: 0.982\n",
            "[2,   100] loss: 0.979 acc: 65.96 time: 4.49\n",
            "[2,   200] loss: 0.926 acc: 67.66 time: 3.91\n",
            "[2,   300] loss: 0.907 acc: 68.29 time: 4.04\n",
            "TESTING:\n",
            "Accuracy of the network on the 10000 test images: 71.34 %\n",
            "Average loss on the 10000 test images: 0.826\n",
            "[3,   100] loss: 0.834 acc: 70.80 time: 4.26\n",
            "[3,   200] loss: 0.837 acc: 70.63 time: 4.08\n",
            "[3,   300] loss: 0.814 acc: 71.86 time: 3.90\n",
            "TESTING:\n",
            "Accuracy of the network on the 10000 test images: 72.81 %\n",
            "Average loss on the 10000 test images: 0.792\n",
            "[4,   100] loss: 0.755 acc: 73.83 time: 4.66\n",
            "[4,   200] loss: 0.770 acc: 73.02 time: 3.99\n",
            "[4,   300] loss: 0.745 acc: 74.31 time: 3.81\n",
            "TESTING:\n",
            "Accuracy of the network on the 10000 test images: 73.74 %\n",
            "Average loss on the 10000 test images: 0.768\n",
            "[5,   100] loss: 0.687 acc: 75.82 time: 3.97\n",
            "[5,   200] loss: 0.696 acc: 75.66 time: 4.01\n",
            "[5,   300] loss: 0.707 acc: 75.94 time: 3.98\n",
            "TESTING:\n",
            "Accuracy of the network on the 10000 test images: 75.55 %\n",
            "Average loss on the 10000 test images: 0.710\n",
            "[6,   100] loss: 0.671 acc: 76.77 time: 4.22\n",
            "[6,   200] loss: 0.651 acc: 77.37 time: 3.94\n",
            "[6,   300] loss: 0.659 acc: 76.85 time: 3.97\n",
            "TESTING:\n",
            "Accuracy of the network on the 10000 test images: 77.06 %\n",
            "Average loss on the 10000 test images: 0.677\n",
            "[7,   100] loss: 0.607 acc: 78.66 time: 4.19\n",
            "[7,   200] loss: 0.641 acc: 77.98 time: 4.13\n",
            "[7,   300] loss: 0.649 acc: 77.62 time: 3.95\n",
            "TESTING:\n",
            "Accuracy of the network on the 10000 test images: 76.61 %\n",
            "Average loss on the 10000 test images: 0.693\n",
            "[8,   100] loss: 0.590 acc: 79.80 time: 4.42\n",
            "[8,   200] loss: 0.605 acc: 79.06 time: 4.10\n",
            "[8,   300] loss: 0.593 acc: 79.63 time: 4.22\n",
            "TESTING:\n",
            "Accuracy of the network on the 10000 test images: 79.35 %\n",
            "Average loss on the 10000 test images: 0.602\n",
            "[9,   100] loss: 0.553 acc: 80.89 time: 4.10\n",
            "[9,   200] loss: 0.551 acc: 81.12 time: 4.15\n",
            "[9,   300] loss: 0.584 acc: 79.66 time: 4.14\n",
            "TESTING:\n",
            "Accuracy of the network on the 10000 test images: 79.56 %\n",
            "Average loss on the 10000 test images: 0.589\n",
            "[10,   100] loss: 0.537 acc: 81.09 time: 4.32\n",
            "[10,   200] loss: 0.559 acc: 80.20 time: 3.91\n",
            "[10,   300] loss: 0.560 acc: 80.70 time: 3.98\n",
            "TESTING:\n",
            "Accuracy of the network on the 10000 test images: 79.88 %\n",
            "Average loss on the 10000 test images: 0.595\n",
            "[11,   100] loss: 0.474 acc: 83.52 time: 4.00\n",
            "[11,   200] loss: 0.441 acc: 84.97 time: 4.06\n",
            "[11,   300] loss: 0.439 acc: 84.40 time: 3.89\n",
            "TESTING:\n",
            "Accuracy of the network on the 10000 test images: 82.88 %\n",
            "Average loss on the 10000 test images: 0.511\n",
            "[12,   100] loss: 0.421 acc: 85.33 time: 4.34\n",
            "[12,   200] loss: 0.417 acc: 85.38 time: 3.91\n",
            "[12,   300] loss: 0.413 acc: 85.55 time: 4.00\n",
            "TESTING:\n",
            "Accuracy of the network on the 10000 test images: 83.35 %\n",
            "Average loss on the 10000 test images: 0.500\n",
            "[13,   100] loss: 0.395 acc: 86.04 time: 4.02\n",
            "[13,   200] loss: 0.407 acc: 85.77 time: 3.91\n",
            "[13,   300] loss: 0.407 acc: 85.65 time: 4.10\n",
            "TESTING:\n",
            "Accuracy of the network on the 10000 test images: 83.14 %\n",
            "Average loss on the 10000 test images: 0.501\n",
            "[14,   100] loss: 0.386 acc: 86.40 time: 4.21\n",
            "[14,   200] loss: 0.392 acc: 86.17 time: 4.09\n",
            "[14,   300] loss: 0.407 acc: 85.81 time: 4.05\n",
            "TESTING:\n",
            "Accuracy of the network on the 10000 test images: 83.53 %\n",
            "Average loss on the 10000 test images: 0.498\n",
            "[15,   100] loss: 0.391 acc: 86.70 time: 4.34\n",
            "[15,   200] loss: 0.378 acc: 86.84 time: 4.17\n",
            "[15,   300] loss: 0.396 acc: 85.90 time: 3.90\n",
            "TESTING:\n",
            "Accuracy of the network on the 10000 test images: 83.50 %\n",
            "Average loss on the 10000 test images: 0.498\n",
            "[16,   100] loss: 0.379 acc: 86.91 time: 4.33\n",
            "[16,   200] loss: 0.378 acc: 86.97 time: 3.95\n",
            "[16,   300] loss: 0.376 acc: 87.04 time: 4.07\n",
            "TESTING:\n",
            "Accuracy of the network on the 10000 test images: 83.79 %\n",
            "Average loss on the 10000 test images: 0.490\n",
            "[17,   100] loss: 0.372 acc: 86.84 time: 3.93\n",
            "[17,   200] loss: 0.368 acc: 87.48 time: 3.95\n",
            "[17,   300] loss: 0.379 acc: 86.77 time: 3.95\n",
            "TESTING:\n",
            "Accuracy of the network on the 10000 test images: 83.40 %\n",
            "Average loss on the 10000 test images: 0.501\n",
            "[18,   100] loss: 0.367 acc: 87.32 time: 4.28\n",
            "[18,   200] loss: 0.363 acc: 87.25 time: 4.07\n",
            "[18,   300] loss: 0.374 acc: 87.15 time: 3.96\n",
            "TESTING:\n",
            "Accuracy of the network on the 10000 test images: 83.74 %\n",
            "Average loss on the 10000 test images: 0.492\n",
            "[19,   100] loss: 0.364 acc: 87.15 time: 4.33\n",
            "[19,   200] loss: 0.359 acc: 87.04 time: 4.13\n",
            "[19,   300] loss: 0.361 acc: 87.22 time: 4.05\n",
            "TESTING:\n",
            "Accuracy of the network on the 10000 test images: 83.66 %\n",
            "Average loss on the 10000 test images: 0.495\n",
            "[20,   100] loss: 0.362 acc: 87.48 time: 4.32\n",
            "[20,   200] loss: 0.355 acc: 87.55 time: 3.99\n",
            "[20,   300] loss: 0.363 acc: 87.45 time: 3.98\n",
            "TESTING:\n",
            "Accuracy of the network on the 10000 test images: 83.66 %\n",
            "Average loss on the 10000 test images: 0.496\n",
            "Finished Training\n"
          ]
        }
      ],
      "source": [
        "train(net, criterion, optimizer, num_epochs=20, decay_epochs=10, init_lr=0.01, task='classification')\n",
        "torch.save(net.state_dict(),\"./final_project_3_rotation.pth\")"
      ]
    },
    {
      "cell_type": "markdown",
      "metadata": {
        "id": "xjVTp9jhefTi"
      },
      "source": [
        "##Supervised training on the randomly initialized model\n",
        "In this section, we will randomly initialize a ResNet18 model and re-train the whole model on the classification task."
      ]
    },
    {
      "cell_type": "code",
      "execution_count": 24,
      "metadata": {
        "id": "uEjy8TBieeLK"
      },
      "outputs": [],
      "source": [
        "import torch.nn as nn\n",
        "import torch.nn.functional as F\n",
        "\n",
        "from torchvision.models import resnet18\n",
        "\n",
        "# TODO: Randomly initialize a ResNet18 model\n",
        "net = resnet18(pretrained=False)\n",
        "net.fc = nn.Linear(512, 10) # Change the last layer for CIFAR10\n",
        "net = net.to(device)"
      ]
    },
    {
      "cell_type": "code",
      "execution_count": 25,
      "metadata": {
        "id": "jEY90pK_0ZAm"
      },
      "outputs": [],
      "source": [
        "# TODO: Define criterion and optimizer\n",
        "criterion = torch.nn.CrossEntropyLoss()\n",
        "optimizer = optim.Adam(net.parameters(), lr = 1e-3)"
      ]
    },
    {
      "cell_type": "code",
      "execution_count": 26,
      "metadata": {
        "id": "lMDwelhY0auO",
        "colab": {
          "base_uri": "https://localhost:8080/"
        },
        "outputId": "71cc6700-711a-4a39-d16f-2fac15e285bf"
      },
      "outputs": [
        {
          "output_type": "stream",
          "name": "stdout",
          "text": [
            "[1,   100] loss: 2.274 acc: 21.02 time: 4.14\n",
            "[1,   200] loss: 1.897 acc: 30.38 time: 4.12\n",
            "[1,   300] loss: 1.751 acc: 35.24 time: 3.91\n",
            "TESTING:\n",
            "Accuracy of the network on the 10000 test images: 42.31 %\n",
            "Average loss on the 10000 test images: 1.616\n",
            "[2,   100] loss: 1.558 acc: 41.73 time: 4.45\n",
            "[2,   200] loss: 1.482 acc: 45.27 time: 4.17\n",
            "[2,   300] loss: 1.412 acc: 47.53 time: 4.00\n",
            "TESTING:\n",
            "Accuracy of the network on the 10000 test images: 52.43 %\n",
            "Average loss on the 10000 test images: 1.304\n",
            "[3,   100] loss: 1.270 acc: 53.91 time: 4.34\n",
            "[3,   200] loss: 1.246 acc: 54.86 time: 4.28\n",
            "[3,   300] loss: 1.177 acc: 57.98 time: 4.00\n",
            "TESTING:\n",
            "Accuracy of the network on the 10000 test images: 61.15 %\n",
            "Average loss on the 10000 test images: 1.101\n",
            "[4,   100] loss: 1.088 acc: 61.08 time: 4.12\n",
            "[4,   200] loss: 1.099 acc: 61.17 time: 4.07\n",
            "[4,   300] loss: 1.031 acc: 63.29 time: 4.12\n",
            "TESTING:\n",
            "Accuracy of the network on the 10000 test images: 66.30 %\n",
            "Average loss on the 10000 test images: 0.959\n",
            "[5,   100] loss: 0.991 acc: 65.35 time: 4.01\n",
            "[5,   200] loss: 0.974 acc: 65.66 time: 4.13\n",
            "[5,   300] loss: 0.933 acc: 67.11 time: 3.89\n",
            "TESTING:\n",
            "Accuracy of the network on the 10000 test images: 69.33 %\n",
            "Average loss on the 10000 test images: 0.870\n",
            "[6,   100] loss: 0.892 acc: 68.60 time: 4.16\n",
            "[6,   200] loss: 0.909 acc: 68.05 time: 3.87\n",
            "[6,   300] loss: 0.880 acc: 68.90 time: 3.86\n",
            "TESTING:\n",
            "Accuracy of the network on the 10000 test images: 71.19 %\n",
            "Average loss on the 10000 test images: 0.838\n",
            "[7,   100] loss: 0.836 acc: 70.54 time: 4.13\n",
            "[7,   200] loss: 0.832 acc: 70.91 time: 4.14\n",
            "[7,   300] loss: 0.816 acc: 71.43 time: 3.88\n",
            "TESTING:\n",
            "Accuracy of the network on the 10000 test images: 72.18 %\n",
            "Average loss on the 10000 test images: 0.804\n",
            "[8,   100] loss: 0.788 acc: 73.11 time: 4.31\n",
            "[8,   200] loss: 0.770 acc: 73.13 time: 3.81\n",
            "[8,   300] loss: 0.785 acc: 72.30 time: 4.05\n",
            "TESTING:\n",
            "Accuracy of the network on the 10000 test images: 72.52 %\n",
            "Average loss on the 10000 test images: 0.818\n",
            "[9,   100] loss: 0.725 acc: 75.09 time: 4.24\n",
            "[9,   200] loss: 0.747 acc: 73.88 time: 4.09\n",
            "[9,   300] loss: 0.743 acc: 74.23 time: 4.09\n",
            "TESTING:\n",
            "Accuracy of the network on the 10000 test images: 74.36 %\n",
            "Average loss on the 10000 test images: 0.747\n",
            "[10,   100] loss: 0.703 acc: 75.33 time: 4.39\n",
            "[10,   200] loss: 0.691 acc: 75.95 time: 4.12\n",
            "[10,   300] loss: 0.690 acc: 76.11 time: 3.92\n",
            "TESTING:\n",
            "Accuracy of the network on the 10000 test images: 70.63 %\n",
            "Average loss on the 10000 test images: 0.872\n",
            "[11,   100] loss: 0.629 acc: 78.16 time: 4.09\n",
            "[11,   200] loss: 0.579 acc: 79.77 time: 4.06\n",
            "[11,   300] loss: 0.579 acc: 79.78 time: 3.95\n",
            "TESTING:\n",
            "Accuracy of the network on the 10000 test images: 79.95 %\n",
            "Average loss on the 10000 test images: 0.586\n",
            "[12,   100] loss: 0.542 acc: 81.05 time: 4.38\n",
            "[12,   200] loss: 0.543 acc: 81.05 time: 4.07\n",
            "[12,   300] loss: 0.559 acc: 80.90 time: 4.09\n",
            "TESTING:\n",
            "Accuracy of the network on the 10000 test images: 80.27 %\n",
            "Average loss on the 10000 test images: 0.577\n",
            "[13,   100] loss: 0.515 acc: 82.35 time: 4.15\n",
            "[13,   200] loss: 0.509 acc: 82.43 time: 4.05\n",
            "[13,   300] loss: 0.521 acc: 81.66 time: 3.96\n",
            "TESTING:\n",
            "Accuracy of the network on the 10000 test images: 80.27 %\n",
            "Average loss on the 10000 test images: 0.572\n",
            "[14,   100] loss: 0.516 acc: 82.00 time: 4.25\n",
            "[14,   200] loss: 0.519 acc: 81.83 time: 3.85\n",
            "[14,   300] loss: 0.514 acc: 81.96 time: 3.84\n",
            "TESTING:\n",
            "Accuracy of the network on the 10000 test images: 80.68 %\n",
            "Average loss on the 10000 test images: 0.554\n",
            "[15,   100] loss: 0.498 acc: 82.76 time: 4.27\n",
            "[15,   200] loss: 0.500 acc: 82.41 time: 4.14\n",
            "[15,   300] loss: 0.497 acc: 82.98 time: 3.98\n",
            "TESTING:\n",
            "Accuracy of the network on the 10000 test images: 80.84 %\n",
            "Average loss on the 10000 test images: 0.560\n",
            "[16,   100] loss: 0.478 acc: 83.44 time: 4.23\n",
            "[16,   200] loss: 0.487 acc: 83.04 time: 3.98\n",
            "[16,   300] loss: 0.486 acc: 82.69 time: 3.80\n",
            "TESTING:\n",
            "Accuracy of the network on the 10000 test images: 80.71 %\n",
            "Average loss on the 10000 test images: 0.563\n",
            "[17,   100] loss: 0.463 acc: 83.57 time: 4.02\n",
            "[17,   200] loss: 0.478 acc: 83.36 time: 3.89\n",
            "[17,   300] loss: 0.482 acc: 83.29 time: 4.02\n",
            "TESTING:\n",
            "Accuracy of the network on the 10000 test images: 81.27 %\n",
            "Average loss on the 10000 test images: 0.544\n",
            "[18,   100] loss: 0.461 acc: 84.00 time: 4.26\n",
            "[18,   200] loss: 0.463 acc: 83.79 time: 4.04\n",
            "[18,   300] loss: 0.459 acc: 83.84 time: 3.91\n",
            "TESTING:\n",
            "Accuracy of the network on the 10000 test images: 81.48 %\n",
            "Average loss on the 10000 test images: 0.544\n",
            "[19,   100] loss: 0.461 acc: 83.90 time: 4.26\n",
            "[19,   200] loss: 0.446 acc: 84.43 time: 4.05\n",
            "[19,   300] loss: 0.450 acc: 84.37 time: 4.07\n",
            "TESTING:\n",
            "Accuracy of the network on the 10000 test images: 81.23 %\n",
            "Average loss on the 10000 test images: 0.548\n",
            "[20,   100] loss: 0.447 acc: 84.57 time: 4.36\n",
            "[20,   200] loss: 0.443 acc: 84.63 time: 4.01\n",
            "[20,   300] loss: 0.452 acc: 84.62 time: 3.88\n",
            "TESTING:\n",
            "Accuracy of the network on the 10000 test images: 81.47 %\n",
            "Average loss on the 10000 test images: 0.547\n",
            "Finished Training\n"
          ]
        }
      ],
      "source": [
        "train(net, criterion, optimizer, num_epochs=20, decay_epochs=10, init_lr=0.01, task='classification')\n",
        "torch.save(net.state_dict(),\"./final_project_3_random.pth\")"
      ]
    },
    {
      "cell_type": "code",
      "source": [
        "from torch.utils.data import DataLoader, Dataset, Subset\n",
        "\n",
        "def get_indices_per_category(dataset, num_examples_per_category):\n",
        "    \"\"\"Get indices for the specified number of examples per category.\"\"\"\n",
        "    class_indices = {i: [] for i in range(10)}  # CIFAR-10 has 10 classes\n",
        "\n",
        "    for idx, (_, _, _ , label) in enumerate(dataset, 0):\n",
        "        class_indices[label.item()].append(idx)\n",
        "\n",
        "    sampled_indices = []\n",
        "    for class_id, indices in class_indices.items():\n",
        "        if num_examples_per_category > len(indices):\n",
        "            raise ValueError(f\"Not enough examples in class {class_id} to sample {num_examples_per_category} examples.\")\n",
        "        sampled_indices.extend(random.sample(indices, num_examples_per_category))\n",
        "\n",
        "    return sampled_indices\n",
        "\n",
        "def create_dataloaders(dataset, examples_per_category_list, batch_size=32):\n",
        "    dataloaders = {}\n",
        "\n",
        "    for num_examples in examples_per_category_list:\n",
        "        indices = get_indices_per_category(dataset, num_examples)\n",
        "        subset = Subset(dataset, indices)\n",
        "        dataloaders[num_examples] = DataLoader(subset, batch_size=batch_size, shuffle=True)\n",
        "\n",
        "    return dataloaders\n",
        "\n",
        "def test(net, testloader, criterion, task):\n",
        "    correct = 0\n",
        "    total = 0\n",
        "    avg_test_loss = 0.0\n",
        "    # since we're not training, we don't need to calculate the gradients for our outputs\n",
        "    with torch.no_grad():\n",
        "        for images, images_rotated, labels, cls_labels in testloader:\n",
        "            if task == 'rotation':\n",
        "              images, labels = images_rotated.to(device), labels.to(device)\n",
        "            elif task == 'classification':\n",
        "              images, labels = images.to(device), cls_labels.to(device)\n",
        "            # TODO: Calculate outputs by running images through the network\n",
        "            # The class with the highest energy is what we choose as prediction\n",
        "            outputs = net(images)\n",
        "            predicted = torch.max(outputs.data,1)[1]\n",
        "\n",
        "            total += labels.size(0)\n",
        "            correct += (predicted == labels).sum().item()\n",
        "            # loss\n",
        "            avg_test_loss += criterion(outputs, labels)  / len(testloader)\n",
        "    print('TESTING:')\n",
        "    print(f'Accuracy of the network on the 10000 test images: {100 * correct / total:.2f} %')\n",
        "    print(f'Average loss on the 10000 test images: {avg_test_loss:.3f}')\n",
        "    return avg_test_loss.item(), 100*correct/total\n",
        "\n",
        "N_lst = [20,100,400,1000,5000]\n",
        "dataloaders = create_dataloaders(trainset, N_lst)\n",
        "\n",
        "logger = {'supervised' : [], 'self-supervised' : []}\n",
        "\n",
        "for N in N_lst:\n",
        "  sampled_examples = dataloaders[N]\n",
        "  model_supervised = resnet18(pretrained=False)\n",
        "  model_supervised.fc = nn.Linear(512, 10) # Change the last layer for CIFAR10\n",
        "  model_supervised = model_supervised.to(device)\n",
        "\n",
        "  pretrained_dict = torch.load('./model') # Load your pretrained weights\n",
        "  model_self_supervised = resnet18(pretrained=False)\n",
        "  model_self_supervised.fc = nn.Linear(512, 10) # Change the last layer for CIFAR10\n",
        "\n",
        "  for name, param in model_self_supervised.named_parameters():\n",
        "      if 'layer4' not in name and 'fc' not in name:\n",
        "          param.requires_grad = False\n",
        "\n",
        "  pretrained_dict = {k: v for k, v in pretrained_dict.items() if k in model_self_supervised.state_dict() and model_self_supervised.state_dict()[k].shape == pretrained_dict[k].shape}\n",
        "  model_self_supervised.load_state_dict(pretrained_dict, strict=False)\n",
        "  model_self_supervised = model_self_supervised.to(device)\n",
        "\n",
        "  criterion = nn.CrossEntropyLoss()\n",
        "  optimizer1 = optim.Adam(params = model_supervised.parameters(), lr = 0.01)\n",
        "  optimizer2 = optim.Adam(params = model_self_supervised.parameters(), lr = 0.01)\n",
        "\n",
        "  scheduler1 = optim.lr_scheduler.LambdaLR(optimizer=optimizer1,\n",
        "                                          lr_lambda=lambda epoch: 0.95 ** epoch,\n",
        "                                          last_epoch=-1,\n",
        "                                          verbose=False)\n",
        "\n",
        "  scheduler2 = optim.lr_scheduler.LambdaLR(optimizer=optimizer2,\n",
        "                                          lr_lambda=lambda epoch: 0.95 ** epoch,\n",
        "                                          last_epoch=-1,\n",
        "                                          verbose=False)\n",
        "\n",
        "  for epochs in range(30):\n",
        "    for imgs,_ ,_ , labels in sampled_examples:\n",
        "      imgs, labels = imgs.to(device), labels.to(device)\n",
        "\n",
        "      assert imgs.is_cuda and labels.is_cuda, \"Tensors should be on GPU\"\n",
        "\n",
        "      optimizer1.zero_grad()\n",
        "      output_supervised = model_supervised(imgs)\n",
        "      loss_supervised = criterion(output_supervised, labels)\n",
        "      loss_supervised.backward()\n",
        "      optimizer1.step()\n",
        "\n",
        "      optimizer2.zero_grad()\n",
        "      output_self_supervised = model_self_supervised(imgs)\n",
        "      loss_self_supervised = criterion(output_self_supervised, labels)\n",
        "      loss_self_supervised.backward()\n",
        "      optimizer2.step()\n",
        "\n",
        "  scheduler1.step()\n",
        "  scheduler2.step()\n",
        "\n",
        "  _, supervised_acc = test(model_supervised, testloader, criterion, \"classification\")\n",
        "  _, self_supervised_acc = test(model_self_supervised, testloader, criterion, \"classification\")\n",
        "\n",
        "  logger['supervised'].append(supervised_acc)\n",
        "  logger['self-supervised'].append(self_supervised_acc)\n",
        "\n",
        "plt.semilogx(N_lst, logger['supervised'],color = 'r',label = \"Supervised\")\n",
        "plt.semilogx(N_lst, logger['self-supervised'],color = 'b',label = \"Self-supervised\")\n",
        "plt.xticks([20, 100, 400, 1000, 5000],labels = ['20', '100', '400', '1000', '5000'])\n",
        "plt.ylabel(\"Test Accuracy[%]\")\n",
        "plt.xlabel(\"The number of training example per category\")\n",
        "plt.legend()`\n"
      ],
      "metadata": {
        "colab": {
          "base_uri": "https://localhost:8080/",
          "height": 1000
        },
        "id": "rLgYLp7wQAMV",
        "outputId": "5009646d-a3ef-483f-da89-796cd0108920"
      },
      "execution_count": 28,
      "outputs": [
        {
          "output_type": "stream",
          "name": "stderr",
          "text": [
            "/usr/local/lib/python3.10/dist-packages/torchvision/models/_utils.py:208: UserWarning: The parameter 'pretrained' is deprecated since 0.13 and may be removed in the future, please use 'weights' instead.\n",
            "  warnings.warn(\n",
            "/usr/local/lib/python3.10/dist-packages/torchvision/models/_utils.py:223: UserWarning: Arguments other than a weight enum or `None` for 'weights' are deprecated since 0.13 and may be removed in the future. The current behavior is equivalent to passing `weights=None`.\n",
            "  warnings.warn(msg)\n",
            "/usr/local/lib/python3.10/dist-packages/torch/optim/lr_scheduler.py:28: UserWarning: The verbose parameter is deprecated. Please use get_last_lr() to access the learning rate.\n",
            "  warnings.warn(\"The verbose parameter is deprecated. Please use get_last_lr() \"\n"
          ]
        },
        {
          "output_type": "stream",
          "name": "stdout",
          "text": [
            "TESTING:\n",
            "Accuracy of the network on the 10000 test images: 21.61 %\n",
            "Average loss on the 10000 test images: 2.286\n",
            "TESTING:\n",
            "Accuracy of the network on the 10000 test images: 34.62 %\n",
            "Average loss on the 10000 test images: 1.972\n",
            "TESTING:\n",
            "Accuracy of the network on the 10000 test images: 38.44 %\n",
            "Average loss on the 10000 test images: 1.644\n",
            "TESTING:\n",
            "Accuracy of the network on the 10000 test images: 48.74 %\n",
            "Average loss on the 10000 test images: 1.461\n",
            "TESTING:\n",
            "Accuracy of the network on the 10000 test images: 60.05 %\n",
            "Average loss on the 10000 test images: 1.176\n",
            "TESTING:\n",
            "Accuracy of the network on the 10000 test images: 53.38 %\n",
            "Average loss on the 10000 test images: 1.294\n",
            "TESTING:\n",
            "Accuracy of the network on the 10000 test images: 69.02 %\n",
            "Average loss on the 10000 test images: 0.908\n",
            "TESTING:\n",
            "Accuracy of the network on the 10000 test images: 56.62 %\n",
            "Average loss on the 10000 test images: 1.225\n",
            "TESTING:\n",
            "Accuracy of the network on the 10000 test images: 80.36 %\n",
            "Average loss on the 10000 test images: 0.576\n",
            "TESTING:\n",
            "Accuracy of the network on the 10000 test images: 59.94 %\n",
            "Average loss on the 10000 test images: 1.121\n"
          ]
        },
        {
          "output_type": "execute_result",
          "data": {
            "text/plain": [
              "<matplotlib.legend.Legend at 0x7c84e6fc4c10>"
            ]
          },
          "metadata": {},
          "execution_count": 28
        },
        {
          "output_type": "display_data",
          "data": {
            "text/plain": [
              "<Figure size 640x480 with 1 Axes>"
            ],
            "image/png": "[encoded data removed]"
          },
          "metadata": {}
        }
      ]
    },
    {
      "cell_type": "code",
      "source": [],
      "metadata": {
        "id": "chpDoaUWRmue"
      },
      "execution_count": null,
      "outputs": []
    }
  ],
  "metadata": {
    "accelerator": "GPU",
    "colab": {
      "gpuType": "T4",
      "machine_shape": "hm",
      "provenance": []
    },
    "kernelspec": {
      "display_name": "Python 3",
      "name": "python3"
    },
    "language_info": {
      "name": "python"
    }
  },
  "nbformat": 4,
  "nbformat_minor": 0
}